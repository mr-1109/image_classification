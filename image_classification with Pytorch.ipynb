{
 "cells": [
  {
   "cell_type": "code",
   "execution_count": 87,
   "id": "a28e26a1",
   "metadata": {},
   "outputs": [],
   "source": [
    "# importing the libraries\n",
    "import numpy as np\n",
    "import pandas as pd\n",
    "from skimage.io import imread\n",
    "import matplotlib.pyplot as plt\n",
    "%matplotlib inline\n",
    "\n",
    "from sklearn.model_selection import train_test_split\n",
    "from sklearn.metrics import accuracy_score"
   ]
  },
  {
   "cell_type": "code",
   "execution_count": 88,
   "id": "a2accc2c",
   "metadata": {},
   "outputs": [
    {
     "data": {
      "text/html": [
       "<div>\n",
       "<style scoped>\n",
       "    .dataframe tbody tr th:only-of-type {\n",
       "        vertical-align: middle;\n",
       "    }\n",
       "\n",
       "    .dataframe tbody tr th {\n",
       "        vertical-align: top;\n",
       "    }\n",
       "\n",
       "    .dataframe thead th {\n",
       "        text-align: right;\n",
       "    }\n",
       "</style>\n",
       "<table border=\"1\" class=\"dataframe\">\n",
       "  <thead>\n",
       "    <tr style=\"text-align: right;\">\n",
       "      <th></th>\n",
       "      <th>id</th>\n",
       "      <th>label</th>\n",
       "    </tr>\n",
       "  </thead>\n",
       "  <tbody>\n",
       "    <tr>\n",
       "      <th>0</th>\n",
       "      <td>1</td>\n",
       "      <td>9</td>\n",
       "    </tr>\n",
       "    <tr>\n",
       "      <th>1</th>\n",
       "      <td>2</td>\n",
       "      <td>0</td>\n",
       "    </tr>\n",
       "    <tr>\n",
       "      <th>2</th>\n",
       "      <td>3</td>\n",
       "      <td>0</td>\n",
       "    </tr>\n",
       "    <tr>\n",
       "      <th>3</th>\n",
       "      <td>4</td>\n",
       "      <td>3</td>\n",
       "    </tr>\n",
       "    <tr>\n",
       "      <th>4</th>\n",
       "      <td>5</td>\n",
       "      <td>0</td>\n",
       "    </tr>\n",
       "  </tbody>\n",
       "</table>\n",
       "</div>"
      ],
      "text/plain": [
       "   id  label\n",
       "0   1      9\n",
       "1   2      0\n",
       "2   3      0\n",
       "3   4      3\n",
       "4   5      0"
      ]
     },
     "execution_count": 88,
     "metadata": {},
     "output_type": "execute_result"
    }
   ],
   "source": [
    "# load the data\n",
    "train_data=pd.read_csv(\"/Users/rohitpatel/Desktop/GIT/clothe_classifiation/train/train.csv\")\n",
    "teast_data=pd.read_csv(\"/Users/rohitpatel/Desktop/GIT/clothe_classifiation/test/test.csv\")\n",
    "sample_submission=pd.read_csv(\"/Users/rohitpatel/Desktop/GIT/clothe_classifiation/sample_submission.csv\")\n",
    "train_data.head()"
   ]
  },
  {
   "cell_type": "markdown",
   "id": "ca1f8e37",
   "metadata": {},
   "source": [
    "**here id represennts the name of image.\n",
    "we have to add .png to it.**"
   ]
  },
  {
   "cell_type": "code",
   "execution_count": 89,
   "id": "07bdcb99",
   "metadata": {},
   "outputs": [],
   "source": [
    "# random number generator\n",
    "seed=128\n",
    "rng=np.random.RandomState(seed)\n"
   ]
  },
  {
   "cell_type": "code",
   "execution_count": 90,
   "id": "b1c2d5a7",
   "metadata": {},
   "outputs": [],
   "source": [
    "# print an image\n",
    "img_name=rng.choice(train_data['id'])\n",
    "filepath = '/Users/rohitpatel/Desktop/GIT/clothe_classifiation/train/train/' + str(img_name) + '.png'\n",
    "image=imread(filepath)\n",
    "image=image.astype('float32')"
   ]
  },
  {
   "cell_type": "code",
   "execution_count": 91,
   "id": "ac9280db",
   "metadata": {},
   "outputs": [
    {
     "name": "stderr",
     "output_type": "stream",
     "text": [
      "Clipping input data to the valid range for imshow with RGB data ([0..1] for floats or [0..255] for integers).\n"
     ]
    },
    {
     "data": {
      "text/plain": [
       "<matplotlib.image.AxesImage at 0x7fc4b2917a00>"
      ]
     },
     "execution_count": 91,
     "metadata": {},
     "output_type": "execute_result"
    },
    {
     "data": {
      "image/png": "[encoded data removed]",
      "text/plain": [
       "<Figure size 360x360 with 1 Axes>"
      ]
     },
     "metadata": {
      "needs_background": "light"
     },
     "output_type": "display_data"
    }
   ],
   "source": [
    "plt.figure(figsize=(5,5))\n",
    "plt.imshow(image, cmap='gray')"
   ]
  },
  {
   "cell_type": "markdown",
   "id": "7046db1a",
   "metadata": {},
   "source": [
    "## this is a random image from dataset and gives us an idea what other image looks like\n",
    "\n"
   ]
  },
  {
   "cell_type": "code",
   "execution_count": 92,
   "id": "1962f289",
   "metadata": {},
   "outputs": [
    {
     "data": {
      "text/plain": [
       "(60000, 28, 28)"
      ]
     },
     "execution_count": 92,
     "metadata": {},
     "output_type": "execute_result"
    }
   ],
   "source": [
    "# loading train data\n",
    "#initialize empty list\n",
    "\n",
    "# loading training images\n",
    "train_img = []\n",
    "for img_name in train_data['id']:\n",
    "    image_path = '/Users/rohitpatel/Desktop/GIT/clothe_classifiation/train/train/' + str(img_name) + '.png'\n",
    "    img = imread(image_path, as_gray=True)\n",
    "    img = img.astype('float32')\n",
    "    train_img.append(img)\n",
    "\n",
    "train_x = np.array(train_img)\n",
    "train_x.shape"
   ]
  },
  {
   "cell_type": "raw",
   "id": "427010b6",
   "metadata": {},
   "source": []
  },
  {
   "cell_type": "markdown",
   "id": "d21d6621",
   "metadata": {},
   "source": [
    "# images are of size 28*28 \n",
    "we are implementing a simple neural network that take one-dimentional array as input. hence we have to flatten these images"
   ]
  },
  {
   "cell_type": "code",
   "execution_count": 93,
   "id": "12565394",
   "metadata": {},
   "outputs": [
    {
     "data": {
      "text/plain": [
       "(60000, 784)"
      ]
     },
     "execution_count": 93,
     "metadata": {},
     "output_type": "execute_result"
    }
   ],
   "source": [
    "train_x = train_x/train_x.max()\n",
    "train_x = train_x.reshape(-1, 28*28).astype('float32')\n",
    "train_x.shape"
   ]
  },
  {
   "cell_type": "code",
   "execution_count": 94,
   "id": "e6d4f04b",
   "metadata": {},
   "outputs": [],
   "source": [
    "# find the target for the model\n",
    "train_y=train_data['label'].values"
   ]
  },
  {
   "cell_type": "code",
   "execution_count": 95,
   "id": "2345b9e2",
   "metadata": {},
   "outputs": [
    {
     "data": {
      "text/plain": [
       "((54000, 784), (54000,))"
      ]
     },
     "execution_count": 95,
     "metadata": {},
     "output_type": "execute_result"
    }
   ],
   "source": [
    "# split the data\n",
    "train_x,test_x,train_y,test_y=train_test_split(train_x,train_y,test_size=0.1,stratify=train_y)\n",
    "train_x.shape, train_y.shape"
   ]
  },
  {
   "cell_type": "code",
   "execution_count": 96,
   "id": "d50e7b43",
   "metadata": {},
   "outputs": [
    {
     "data": {
      "text/plain": [
       "((6000, 784), (6000,))"
      ]
     },
     "execution_count": 96,
     "metadata": {},
     "output_type": "execute_result"
    }
   ],
   "source": [
    "test_x.shape, test_y.shape"
   ]
  },
  {
   "cell_type": "code",
   "execution_count": 97,
   "id": "2bc2dc3c",
   "metadata": {},
   "outputs": [],
   "source": [
    "# import torch library\n",
    "import torch\n",
    "from torch.autograd import Variable\n",
    "from torch.nn import Linear, ReLU, CrossEntropyLoss, Sequential\n",
    "from torch.optim import Adam"
   ]
  },
  {
   "cell_type": "code",
   "execution_count": 122,
   "id": "dff26cf9",
   "metadata": {},
   "outputs": [],
   "source": [
    "# define the parameters\n",
    "input_units=28*28\n",
    "hid_units=500\n",
    "out_units=10\n",
    "\n",
    "# other variables\n",
    "epochs=100\n",
    "learning_rate=0.005\n"
   ]
  },
  {
   "cell_type": "code",
   "execution_count": 123,
   "id": "b7eeac32",
   "metadata": {},
   "outputs": [],
   "source": [
    "# now define the model\n",
    "\n",
    "model = Sequential(Linear(input_units, hid_units),\n",
    "                   ReLU(),\n",
    "                   Linear(hid_units, out_units))\n",
    "# loss function\n",
    "loss_fn = CrossEntropyLoss()\n",
    "\n",
    "# define optimization algorithm\n",
    "optimizer = Adam(model.parameters(), lr=learning_rate)"
   ]
  },
  {
   "cell_type": "code",
   "execution_count": 124,
   "id": "4ebadf07",
   "metadata": {},
   "outputs": [
    {
     "name": "stdout",
     "output_type": "stream",
     "text": [
      "2 tensor(1.6696)\n",
      "4 tensor(1.5769)\n",
      "6 tensor(1.2167)\n",
      "8 tensor(2.2249)\n",
      "10 tensor(3.0008)\n",
      "12 tensor(4.0415)\n",
      "14 tensor(4.2473)\n",
      "16 tensor(3.2980)\n",
      "18 tensor(3.9716)\n",
      "20 tensor(5.6387)\n",
      "22 tensor(5.0836)\n",
      "24 tensor(3.7623)\n",
      "26 tensor(3.1792)\n",
      "28 tensor(3.1285)\n",
      "30 tensor(3.3254)\n",
      "32 tensor(3.4740)\n",
      "34 tensor(3.5145)\n",
      "36 tensor(4.6010)\n",
      "38 tensor(5.4174)\n",
      "40 tensor(5.0524)\n",
      "42 tensor(4.0642)\n",
      "44 tensor(3.4669)\n",
      "46 tensor(4.1024)\n",
      "48 tensor(5.5348)\n",
      "50 tensor(6.4818)\n",
      "52 tensor(6.3935)\n",
      "54 tensor(5.9915)\n",
      "56 tensor(6.7734)\n",
      "58 tensor(7.4782)\n",
      "60 tensor(8.1550)\n",
      "62 tensor(9.0040)\n",
      "64 tensor(9.3772)\n",
      "66 tensor(8.8995)\n",
      "68 tensor(7.8717)\n",
      "70 tensor(6.9227)\n",
      "72 tensor(7.1619)\n",
      "74 tensor(7.3562)\n",
      "76 tensor(6.4281)\n",
      "78 tensor(5.1061)\n",
      "80 tensor(4.2133)\n",
      "82 tensor(4.0343)\n",
      "84 tensor(4.3496)\n",
      "86 tensor(4.9015)\n",
      "88 tensor(5.5487)\n",
      "90 tensor(5.9882)\n",
      "92 tensor(6.0329)\n",
      "94 tensor(5.7217)\n",
      "96 tensor(5.1332)\n",
      "98 tensor(4.4159)\n",
      "100 tensor(3.8512)\n"
     ]
    }
   ],
   "source": [
    "train_losses = []\n",
    "val_losses = []\n",
    "for epoch in range(epochs):\n",
    "    avg_cost = 0\n",
    "    \n",
    "    x, y = Variable(torch.from_numpy(train_x)), Variable(torch.from_numpy(train_y), requires_grad=False)\n",
    "    x_val, y_val = Variable(torch.from_numpy(test_x)), Variable(torch.from_numpy(test_y), requires_grad=False)\n",
    "    pred = model(x)\n",
    "    pred_val = model(x_val)\n",
    "\n",
    "    # get loss\n",
    "    loss = loss_fn(pred, y)\n",
    "    loss_val = loss_fn(pred_val, y_val)\n",
    "    train_losses.append(loss)\n",
    "    val_losses.append(loss_val)\n",
    "\n",
    "    # perform backpropagation\n",
    "    loss.backward()\n",
    "    optimizer.step()\n",
    "    avg_cost = avg_cost + loss.data\n",
    "\n",
    "    if (epoch%2 != 0):\n",
    "        print(epoch+1, avg_cost)"
   ]
  },
  {
   "cell_type": "code",
   "execution_count": 125,
   "id": "07522cf9",
   "metadata": {},
   "outputs": [
    {
     "data": {
      "image/png": "[encoded data removed]",
      "text/plain": [
       "<Figure size 432x288 with 1 Axes>"
      ]
     },
     "metadata": {
      "needs_background": "light"
     },
     "output_type": "display_data"
    }
   ],
   "source": [
    "# plotting the training and validation loss\n",
    "plt.plot(train_losses, label='Training loss')\n",
    "plt.plot(val_losses, label='Validation loss')\n",
    "plt.legend()\n",
    "plt.show()"
   ]
  },
  {
   "cell_type": "code",
   "execution_count": 126,
   "id": "e6c4a07f",
   "metadata": {},
   "outputs": [
    {
     "data": {
      "text/plain": [
       "0.478962962962963"
      ]
     },
     "execution_count": 126,
     "metadata": {},
     "output_type": "execute_result"
    }
   ],
   "source": [
    "# get training accuracy\n",
    "x, y = Variable(torch.from_numpy(train_x)), Variable(torch.from_numpy(train_y), requires_grad=False)\n",
    "pred = model(x)\n",
    "\n",
    "final_pred = np.argmax(pred.data.numpy(), axis=1)\n",
    "\n",
    "accuracy_score(train_y, final_pred)"
   ]
  },
  {
   "cell_type": "code",
   "execution_count": 127,
   "id": "4efc3d3c",
   "metadata": {},
   "outputs": [
    {
     "data": {
      "text/plain": [
       "0.482"
      ]
     },
     "execution_count": 127,
     "metadata": {},
     "output_type": "execute_result"
    }
   ],
   "source": [
    "# get validation accuracy\n",
    "x, y = Variable(torch.from_numpy(test_x)), Variable(torch.from_numpy(test_y), requires_grad=False)\n",
    "pred = model(x)\n",
    "final_pred = np.argmax(pred.data.numpy(), axis=1)\n",
    "\n",
    "accuracy_score(test_y, final_pred)"
   ]
  },
  {
   "cell_type": "code",
   "execution_count": null,
   "id": "d00d52f8",
   "metadata": {},
   "outputs": [],
   "source": []
  }
 ],
 "metadata": {
  "kernelspec": {
   "display_name": "Python 3",
   "language": "python",
   "name": "python3"
  },
  "language_info": {
   "codemirror_mode": {
    "name": "ipython",
    "version": 3
   },
   "file_extension": ".py",
   "mimetype": "text/x-python",
   "name": "python",
   "nbconvert_exporter": "python",
   "pygments_lexer": "ipython3",
   "version": "3.8.8"
  }
 },
 "nbformat": 4,
 "nbformat_minor": 5
}
